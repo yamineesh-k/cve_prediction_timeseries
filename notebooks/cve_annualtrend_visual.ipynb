{
  "nbformat": 4,
  "nbformat_minor": 0,
  "metadata": {
    "colab": {
      "provenance": [],
      "gpuType": "T4"
    },
    "kernelspec": {
      "name": "python3",
      "display_name": "Python 3"
    },
    "language_info": {
      "name": "python"
    },
    "accelerator": "GPU"
  },
  "cells": [
    {
      "cell_type": "markdown",
      "source": [
        "# **Visualize the Annual Trend of CVEs Published**"
      ],
      "metadata": {
        "id": "V6Kjc9p6Eppy"
      }
    },
    {
      "cell_type": "code",
      "execution_count": 1,
      "metadata": {
        "id": "PGX5iL74pN40"
      },
      "outputs": [],
      "source": [
        "%%capture\n",
        "# Download and extract data\n",
        "!mkdir -p jsondata\n",
        "%cd jsondata\n",
        "!rm *.json\n",
        "!rm *.zip\n",
        "!wget https://nvd.nist.gov/feeds/json/cve/1.1/nvdcve-1.1-{2010..2023}.json.zip\n",
        "!unzip -o \"*.zip\""
      ]
    },
    {
      "cell_type": "code",
      "source": [
        "import glob\n",
        "import json\n",
        "import pandas as pd\n",
        "import numpy as np\n",
        "import matplotlib.pyplot as plt\n",
        "import seaborn as sns\n",
        "import matplotlib.ticker as ticker\n",
        "import plotly.express as px\n",
        "from plotly.subplots import make_subplots\n",
        "from matplotlib.dates import date2num"
      ],
      "metadata": {
        "id": "F7DC9R4V2w26"
      },
      "execution_count": 21,
      "outputs": []
    },
    {
      "cell_type": "code",
      "source": [
        "# Extract and process data\n",
        "row_accumulator = []\n",
        "for filename in glob.glob('nvdcve-1.1-*.json'):\n",
        "  with open(filename, 'r', encoding='utf-8') as f:\n",
        "    nvd_data = json.load(f)\n",
        "    for entry in nvd_data['CVE_Items']:\n",
        "      cve = entry['cve']['CVE_data_meta']['ID']\n",
        "      published_date = entry.get('publishedDate')\n",
        "      description = entry.get('cve', {}).get('description', {}).get('description_data', [{}])[0].get('value', '')\n",
        "      new_row = {\n",
        "          'CVE': cve,\n",
        "          'Published': published_date,\n",
        "          'Description': description,\n",
        "          }\n",
        "      if not description.startswith('Reject'):\n",
        "            row_accumulator.append(new_row)\n",
        "\n",
        "# Create DataFrame\n",
        "nvd = pd.DataFrame(row_accumulator)"
      ],
      "metadata": {
        "id": "lKpxxbwTHo9X"
      },
      "execution_count": 3,
      "outputs": []
    },
    {
      "cell_type": "code",
      "source": [
        "nvd.head()"
      ],
      "metadata": {
        "colab": {
          "base_uri": "https://localhost:8080/",
          "height": 206
        },
        "id": "rY86lybwp0OH",
        "outputId": "5c11630e-0277-488c-a3ad-63fffb546a31"
      },
      "execution_count": 4,
      "outputs": [
        {
          "output_type": "execute_result",
          "data": {
            "text/plain": [
              "             CVE          Published  \\\n",
              "0  CVE-2010-0001  2010-01-29T18:30Z   \n",
              "1  CVE-2010-0002  2010-01-14T18:30Z   \n",
              "2  CVE-2010-0003  2010-01-26T18:30Z   \n",
              "3  CVE-2010-0004  2010-01-29T18:30Z   \n",
              "4  CVE-2010-0005  2010-01-29T18:30Z   \n",
              "\n",
              "                                         Description  \n",
              "0  Integer underflow in the unlzw function in unl...  \n",
              "1  The /etc/profile.d/60alias.sh script in the Ma...  \n",
              "2  The print_fatal_signal function in kernel/sign...  \n",
              "3  ViewVC before 1.1.3 composes the root listing ...  \n",
              "4  query.py in the query interface in ViewVC befo...  "
            ],
            "text/html": [
              "\n",
              "  <div id=\"df-917bd2ea-8035-48be-89be-63c1f010d4df\" class=\"colab-df-container\">\n",
              "    <div>\n",
              "<style scoped>\n",
              "    .dataframe tbody tr th:only-of-type {\n",
              "        vertical-align: middle;\n",
              "    }\n",
              "\n",
              "    .dataframe tbody tr th {\n",
              "        vertical-align: top;\n",
              "    }\n",
              "\n",
              "    .dataframe thead th {\n",
              "        text-align: right;\n",
              "    }\n",
              "</style>\n",
              "<table border=\"1\" class=\"dataframe\">\n",
              "  <thead>\n",
              "    <tr style=\"text-align: right;\">\n",
              "      <th></th>\n",
              "      <th>CVE</th>\n",
              "      <th>Published</th>\n",
              "      <th>Description</th>\n",
              "    </tr>\n",
              "  </thead>\n",
              "  <tbody>\n",
              "    <tr>\n",
              "      <th>0</th>\n",
              "      <td>CVE-2010-0001</td>\n",
              "      <td>2010-01-29T18:30Z</td>\n",
              "      <td>Integer underflow in the unlzw function in unl...</td>\n",
              "    </tr>\n",
              "    <tr>\n",
              "      <th>1</th>\n",
              "      <td>CVE-2010-0002</td>\n",
              "      <td>2010-01-14T18:30Z</td>\n",
              "      <td>The /etc/profile.d/60alias.sh script in the Ma...</td>\n",
              "    </tr>\n",
              "    <tr>\n",
              "      <th>2</th>\n",
              "      <td>CVE-2010-0003</td>\n",
              "      <td>2010-01-26T18:30Z</td>\n",
              "      <td>The print_fatal_signal function in kernel/sign...</td>\n",
              "    </tr>\n",
              "    <tr>\n",
              "      <th>3</th>\n",
              "      <td>CVE-2010-0004</td>\n",
              "      <td>2010-01-29T18:30Z</td>\n",
              "      <td>ViewVC before 1.1.3 composes the root listing ...</td>\n",
              "    </tr>\n",
              "    <tr>\n",
              "      <th>4</th>\n",
              "      <td>CVE-2010-0005</td>\n",
              "      <td>2010-01-29T18:30Z</td>\n",
              "      <td>query.py in the query interface in ViewVC befo...</td>\n",
              "    </tr>\n",
              "  </tbody>\n",
              "</table>\n",
              "</div>\n",
              "    <div class=\"colab-df-buttons\">\n",
              "\n",
              "  <div class=\"colab-df-container\">\n",
              "    <button class=\"colab-df-convert\" onclick=\"convertToInteractive('df-917bd2ea-8035-48be-89be-63c1f010d4df')\"\n",
              "            title=\"Convert this dataframe to an interactive table.\"\n",
              "            style=\"display:none;\">\n",
              "\n",
              "  <svg xmlns=\"http://www.w3.org/2000/svg\" height=\"24px\" viewBox=\"0 -960 960 960\">\n",
              "    <path d=\"M120-120v-720h720v720H120Zm60-500h600v-160H180v160Zm220 220h160v-160H400v160Zm0 220h160v-160H400v160ZM180-400h160v-160H180v160Zm440 0h160v-160H620v160ZM180-180h160v-160H180v160Zm440 0h160v-160H620v160Z\"/>\n",
              "  </svg>\n",
              "    </button>\n",
              "\n",
              "  <style>\n",
              "    .colab-df-container {\n",
              "      display:flex;\n",
              "      gap: 12px;\n",
              "    }\n",
              "\n",
              "    .colab-df-convert {\n",
              "      background-color: #E8F0FE;\n",
              "      border: none;\n",
              "      border-radius: 50%;\n",
              "      cursor: pointer;\n",
              "      display: none;\n",
              "      fill: #1967D2;\n",
              "      height: 32px;\n",
              "      padding: 0 0 0 0;\n",
              "      width: 32px;\n",
              "    }\n",
              "\n",
              "    .colab-df-convert:hover {\n",
              "      background-color: #E2EBFA;\n",
              "      box-shadow: 0px 1px 2px rgba(60, 64, 67, 0.3), 0px 1px 3px 1px rgba(60, 64, 67, 0.15);\n",
              "      fill: #174EA6;\n",
              "    }\n",
              "\n",
              "    .colab-df-buttons div {\n",
              "      margin-bottom: 4px;\n",
              "    }\n",
              "\n",
              "    [theme=dark] .colab-df-convert {\n",
              "      background-color: #3B4455;\n",
              "      fill: #D2E3FC;\n",
              "    }\n",
              "\n",
              "    [theme=dark] .colab-df-convert:hover {\n",
              "      background-color: #434B5C;\n",
              "      box-shadow: 0px 1px 3px 1px rgba(0, 0, 0, 0.15);\n",
              "      filter: drop-shadow(0px 1px 2px rgba(0, 0, 0, 0.3));\n",
              "      fill: #FFFFFF;\n",
              "    }\n",
              "  </style>\n",
              "\n",
              "    <script>\n",
              "      const buttonEl =\n",
              "        document.querySelector('#df-917bd2ea-8035-48be-89be-63c1f010d4df button.colab-df-convert');\n",
              "      buttonEl.style.display =\n",
              "        google.colab.kernel.accessAllowed ? 'block' : 'none';\n",
              "\n",
              "      async function convertToInteractive(key) {\n",
              "        const element = document.querySelector('#df-917bd2ea-8035-48be-89be-63c1f010d4df');\n",
              "        const dataTable =\n",
              "          await google.colab.kernel.invokeFunction('convertToInteractive',\n",
              "                                                    [key], {});\n",
              "        if (!dataTable) return;\n",
              "\n",
              "        const docLinkHtml = 'Like what you see? Visit the ' +\n",
              "          '<a target=\"_blank\" href=https://colab.research.google.com/notebooks/data_table.ipynb>data table notebook</a>'\n",
              "          + ' to learn more about interactive tables.';\n",
              "        element.innerHTML = '';\n",
              "        dataTable['output_type'] = 'display_data';\n",
              "        await google.colab.output.renderOutput(dataTable, element);\n",
              "        const docLink = document.createElement('div');\n",
              "        docLink.innerHTML = docLinkHtml;\n",
              "        element.appendChild(docLink);\n",
              "      }\n",
              "    </script>\n",
              "  </div>\n",
              "\n",
              "\n",
              "<div id=\"df-0211dfbe-820e-43c0-b29e-61d9973288d8\">\n",
              "  <button class=\"colab-df-quickchart\" onclick=\"quickchart('df-0211dfbe-820e-43c0-b29e-61d9973288d8')\"\n",
              "            title=\"Suggest charts\"\n",
              "            style=\"display:none;\">\n",
              "\n",
              "<svg xmlns=\"http://www.w3.org/2000/svg\" height=\"24px\"viewBox=\"0 0 24 24\"\n",
              "     width=\"24px\">\n",
              "    <g>\n",
              "        <path d=\"M19 3H5c-1.1 0-2 .9-2 2v14c0 1.1.9 2 2 2h14c1.1 0 2-.9 2-2V5c0-1.1-.9-2-2-2zM9 17H7v-7h2v7zm4 0h-2V7h2v10zm4 0h-2v-4h2v4z\"/>\n",
              "    </g>\n",
              "</svg>\n",
              "  </button>\n",
              "\n",
              "<style>\n",
              "  .colab-df-quickchart {\n",
              "      --bg-color: #E8F0FE;\n",
              "      --fill-color: #1967D2;\n",
              "      --hover-bg-color: #E2EBFA;\n",
              "      --hover-fill-color: #174EA6;\n",
              "      --disabled-fill-color: #AAA;\n",
              "      --disabled-bg-color: #DDD;\n",
              "  }\n",
              "\n",
              "  [theme=dark] .colab-df-quickchart {\n",
              "      --bg-color: #3B4455;\n",
              "      --fill-color: #D2E3FC;\n",
              "      --hover-bg-color: #434B5C;\n",
              "      --hover-fill-color: #FFFFFF;\n",
              "      --disabled-bg-color: #3B4455;\n",
              "      --disabled-fill-color: #666;\n",
              "  }\n",
              "\n",
              "  .colab-df-quickchart {\n",
              "    background-color: var(--bg-color);\n",
              "    border: none;\n",
              "    border-radius: 50%;\n",
              "    cursor: pointer;\n",
              "    display: none;\n",
              "    fill: var(--fill-color);\n",
              "    height: 32px;\n",
              "    padding: 0;\n",
              "    width: 32px;\n",
              "  }\n",
              "\n",
              "  .colab-df-quickchart:hover {\n",
              "    background-color: var(--hover-bg-color);\n",
              "    box-shadow: 0 1px 2px rgba(60, 64, 67, 0.3), 0 1px 3px 1px rgba(60, 64, 67, 0.15);\n",
              "    fill: var(--button-hover-fill-color);\n",
              "  }\n",
              "\n",
              "  .colab-df-quickchart-complete:disabled,\n",
              "  .colab-df-quickchart-complete:disabled:hover {\n",
              "    background-color: var(--disabled-bg-color);\n",
              "    fill: var(--disabled-fill-color);\n",
              "    box-shadow: none;\n",
              "  }\n",
              "\n",
              "  .colab-df-spinner {\n",
              "    border: 2px solid var(--fill-color);\n",
              "    border-color: transparent;\n",
              "    border-bottom-color: var(--fill-color);\n",
              "    animation:\n",
              "      spin 1s steps(1) infinite;\n",
              "  }\n",
              "\n",
              "  @keyframes spin {\n",
              "    0% {\n",
              "      border-color: transparent;\n",
              "      border-bottom-color: var(--fill-color);\n",
              "      border-left-color: var(--fill-color);\n",
              "    }\n",
              "    20% {\n",
              "      border-color: transparent;\n",
              "      border-left-color: var(--fill-color);\n",
              "      border-top-color: var(--fill-color);\n",
              "    }\n",
              "    30% {\n",
              "      border-color: transparent;\n",
              "      border-left-color: var(--fill-color);\n",
              "      border-top-color: var(--fill-color);\n",
              "      border-right-color: var(--fill-color);\n",
              "    }\n",
              "    40% {\n",
              "      border-color: transparent;\n",
              "      border-right-color: var(--fill-color);\n",
              "      border-top-color: var(--fill-color);\n",
              "    }\n",
              "    60% {\n",
              "      border-color: transparent;\n",
              "      border-right-color: var(--fill-color);\n",
              "    }\n",
              "    80% {\n",
              "      border-color: transparent;\n",
              "      border-right-color: var(--fill-color);\n",
              "      border-bottom-color: var(--fill-color);\n",
              "    }\n",
              "    90% {\n",
              "      border-color: transparent;\n",
              "      border-bottom-color: var(--fill-color);\n",
              "    }\n",
              "  }\n",
              "</style>\n",
              "\n",
              "  <script>\n",
              "    async function quickchart(key) {\n",
              "      const quickchartButtonEl =\n",
              "        document.querySelector('#' + key + ' button');\n",
              "      quickchartButtonEl.disabled = true;  // To prevent multiple clicks.\n",
              "      quickchartButtonEl.classList.add('colab-df-spinner');\n",
              "      try {\n",
              "        const charts = await google.colab.kernel.invokeFunction(\n",
              "            'suggestCharts', [key], {});\n",
              "      } catch (error) {\n",
              "        console.error('Error during call to suggestCharts:', error);\n",
              "      }\n",
              "      quickchartButtonEl.classList.remove('colab-df-spinner');\n",
              "      quickchartButtonEl.classList.add('colab-df-quickchart-complete');\n",
              "    }\n",
              "    (() => {\n",
              "      let quickchartButtonEl =\n",
              "        document.querySelector('#df-0211dfbe-820e-43c0-b29e-61d9973288d8 button');\n",
              "      quickchartButtonEl.style.display =\n",
              "        google.colab.kernel.accessAllowed ? 'block' : 'none';\n",
              "    })();\n",
              "  </script>\n",
              "</div>\n",
              "\n",
              "    </div>\n",
              "  </div>\n"
            ]
          },
          "metadata": {},
          "execution_count": 4
        }
      ]
    },
    {
      "cell_type": "code",
      "source": [
        "sum(nvd['Description'].isnull())"
      ],
      "metadata": {
        "colab": {
          "base_uri": "https://localhost:8080/"
        },
        "id": "bvF3yBt3qP1B",
        "outputId": "916c9996-b87a-428a-cec6-2fe4fc9b966c"
      },
      "execution_count": 5,
      "outputs": [
        {
          "output_type": "execute_result",
          "data": {
            "text/plain": [
              "0"
            ]
          },
          "metadata": {},
          "execution_count": 5
        }
      ]
    },
    {
      "cell_type": "code",
      "source": [
        "# Data processing and cleanup\n",
        "nvd['Published'] = pd.to_datetime(nvd['Published'])\n",
        "nvd['Published'] = pd.to_datetime(nvd['Published']).apply(lambda x: x.date())"
      ],
      "metadata": {
        "id": "vwXreM3DHx-3"
      },
      "execution_count": 6,
      "outputs": []
    },
    {
      "cell_type": "code",
      "source": [
        "# Convert 'Published' column to datetime\n",
        "nvd['Published'] = pd.to_datetime(nvd['Published'], errors='coerce')"
      ],
      "metadata": {
        "id": "zWxtaI5FO9jk"
      },
      "execution_count": 7,
      "outputs": []
    },
    {
      "cell_type": "code",
      "source": [
        "# Define the date range\n",
        "start_date = '2010-01-01'\n",
        "end_date = '2023-12-31'\n",
        "\n",
        "# Filter the data\n",
        "nvd = nvd[(nvd['Published'] >= start_date) & (nvd['Published'] <= end_date)]"
      ],
      "metadata": {
        "id": "fcPyO4hdByR6"
      },
      "execution_count": 8,
      "outputs": []
    },
    {
      "cell_type": "code",
      "source": [
        "oldest_date = nvd['Published'].min()\n",
        "newest_date = nvd['Published'].max()\n",
        "print(f'Oldest date: {oldest_date}')\n",
        "print(f'Newest date: {newest_date}')"
      ],
      "metadata": {
        "colab": {
          "base_uri": "https://localhost:8080/"
        },
        "id": "sWgC7YazWGPD",
        "outputId": "ffa04cae-b582-4833-b9ab-eaf935b5f46a"
      },
      "execution_count": 9,
      "outputs": [
        {
          "output_type": "stream",
          "name": "stdout",
          "text": [
            "Oldest date: 2010-01-06 00:00:00\n",
            "Newest date: 2023-12-31 00:00:00\n"
          ]
        }
      ]
    },
    {
      "cell_type": "code",
      "source": [
        "print(nvd.tail(20))"
      ],
      "metadata": {
        "colab": {
          "base_uri": "https://localhost:8080/"
        },
        "id": "P9QGnyI0NATa",
        "outputId": "50b15206-5a67-45d3-9668-609afa911db8"
      },
      "execution_count": 10,
      "outputs": [
        {
          "output_type": "stream",
          "name": "stdout",
          "text": [
            "                  CVE  Published  \\\n",
            "161450  CVE-2013-7472 2019-06-15   \n",
            "161451  CVE-2013-7473 2019-08-01   \n",
            "161452  CVE-2013-7474 2019-08-01   \n",
            "161453  CVE-2013-7475 2019-08-13   \n",
            "161454  CVE-2013-7476 2019-08-14   \n",
            "161455  CVE-2013-7477 2019-08-22   \n",
            "161456  CVE-2013-7478 2019-08-22   \n",
            "161457  CVE-2013-7479 2019-08-22   \n",
            "161458  CVE-2013-7480 2019-08-22   \n",
            "161459  CVE-2013-7481 2019-08-22   \n",
            "161460  CVE-2013-7482 2019-08-22   \n",
            "161461  CVE-2013-7483 2019-08-22   \n",
            "161462  CVE-2013-7484 2019-11-30   \n",
            "161463  CVE-2013-7485 2020-01-02   \n",
            "161464  CVE-2013-7486 2020-01-02   \n",
            "161465  CVE-2013-7487 2020-03-21   \n",
            "161466  CVE-2013-7488 2020-04-07   \n",
            "161467  CVE-2013-7489 2020-06-26   \n",
            "161468  CVE-2013-7490 2020-09-11   \n",
            "161469  CVE-2013-7491 2020-09-11   \n",
            "\n",
            "                                              Description  \n",
            "161450  The \"Count per Day\" plugin before 3.2.6 for Wo...  \n",
            "161451  Windu CMS 2.2 allows CSRF via admin/users/?mn=...  \n",
            "161452  Windu CMS 2.2 allows XSS via the name paramete...  \n",
            "161453  The contact-form-plugin plugin before 3.52 for...  \n",
            "161454  The simple-fields plugin before 1.2 for WordPr...  \n",
            "161455  The events-manager plugin before 5.5.2 for Wor...  \n",
            "161456  The events-manager plugin before 5.5 for WordP...  \n",
            "161457  The events-manager plugin before 5.3.9 for Wor...  \n",
            "161458  The events-manager plugin before 5.3.6.1 for W...  \n",
            "161459  The contact-form-plugin plugin before 3.3.5 fo...  \n",
            "161460  The reflex-gallery plugin before 1.4.3 for Wor...  \n",
            "161461  The slidedeck2 plugin before 2.3.5 for WordPre...  \n",
            "161462  Zabbix before 5.0 represents passwords in the ...  \n",
            "161463  Cross-site scripting (XSS) vulnerability in th...  \n",
            "161464  Cross-site scripting (XSS) vulnerability in th...  \n",
            "161465  On Swann DVR04B, DVR08B, DVR-16CIF, and DVR16B...  \n",
            "161466  perl-Convert-ASN1 (aka the Convert::ASN1 modul...  \n",
            "161467  The Beaker library through 1.11.0 for Python i...  \n",
            "161468  An issue was discovered in the DBI module befo...  \n",
            "161469  An issue was discovered in the DBI module befo...  \n"
          ]
        }
      ]
    },
    {
      "cell_type": "code",
      "source": [
        "print(len(nvd))"
      ],
      "metadata": {
        "colab": {
          "base_uri": "https://localhost:8080/"
        },
        "id": "mDgul26DHDJw",
        "outputId": "2fa93770-b4c5-4a93-f1ff-91fe38a3c6f2"
      },
      "execution_count": 11,
      "outputs": [
        {
          "output_type": "stream",
          "name": "stdout",
          "text": [
            "161187\n"
          ]
        }
      ]
    },
    {
      "cell_type": "code",
      "source": [
        "nvd.dtypes"
      ],
      "metadata": {
        "colab": {
          "base_uri": "https://localhost:8080/"
        },
        "id": "G86Slhm7SSJd",
        "outputId": "c8f834b0-83fe-42e4-9ffb-6fbfa157af01"
      },
      "execution_count": 12,
      "outputs": [
        {
          "output_type": "execute_result",
          "data": {
            "text/plain": [
              "CVE                    object\n",
              "Published      datetime64[ns]\n",
              "Description            object\n",
              "dtype: object"
            ]
          },
          "metadata": {},
          "execution_count": 12
        }
      ]
    },
    {
      "cell_type": "code",
      "source": [
        "nvd.dtypes"
      ],
      "metadata": {
        "colab": {
          "base_uri": "https://localhost:8080/"
        },
        "id": "NLDLnHVj6JaE",
        "outputId": "2799f70a-3ba6-4b4c-951d-589a7426c480"
      },
      "execution_count": 13,
      "outputs": [
        {
          "output_type": "execute_result",
          "data": {
            "text/plain": [
              "CVE                    object\n",
              "Published      datetime64[ns]\n",
              "Description            object\n",
              "dtype: object"
            ]
          },
          "metadata": {},
          "execution_count": 13
        }
      ]
    },
    {
      "cell_type": "code",
      "source": [
        "# New Data Frame - Aggregated Counts by Month\n",
        "yearly_cves = (\n",
        "    nvd.groupby(nvd['Published'].dt.to_period(\"Y\"))\n",
        "       .size()\n",
        "       .reset_index(name='Count')\n",
        "       .rename(columns={'Published': 'Year'})\n",
        ")"
      ],
      "metadata": {
        "id": "W6tWmzlVPBnL"
      },
      "execution_count": 14,
      "outputs": []
    },
    {
      "cell_type": "code",
      "source": [
        "# Display the resulting DataFrame\n",
        "print(yearly_cves)"
      ],
      "metadata": {
        "colab": {
          "base_uri": "https://localhost:8080/"
        },
        "id": "xF4MbWdePHDV",
        "outputId": "5661df5e-99aa-4fba-c574-87547826d63f"
      },
      "execution_count": 15,
      "outputs": [
        {
          "output_type": "stream",
          "name": "stdout",
          "text": [
            "    Year  Count\n",
            "0   2010   3966\n",
            "1   2011   4041\n",
            "2   2012   5246\n",
            "3   2013   5179\n",
            "4   2014   7916\n",
            "5   2015   6485\n",
            "6   2016   6444\n",
            "7   2017  14627\n",
            "8   2018  16501\n",
            "9   2019  17251\n",
            "10  2020   4044\n",
            "11  2021  16525\n",
            "12  2022  24565\n",
            "13  2023  28397\n"
          ]
        }
      ]
    },
    {
      "cell_type": "code",
      "source": [
        "# Convert 'Year' to string for plotting\n",
        "yearly_cves['Year'] = yearly_cves['Year'].astype(str)"
      ],
      "metadata": {
        "id": "_6cIRCS0K0-f"
      },
      "execution_count": 16,
      "outputs": []
    },
    {
      "cell_type": "code",
      "source": [
        "import matplotlib.pyplot as plt\n",
        "import pandas as pd"
      ],
      "metadata": {
        "id": "Mq0EyPG3IvdC"
      },
      "execution_count": 17,
      "outputs": []
    },
    {
      "cell_type": "code",
      "source": [
        "yearly_cves['Growth Percentage'] = round(yearly_cves['Count'].pct_change() * 100,1)"
      ],
      "metadata": {
        "id": "lswCyWSbIwbk"
      },
      "execution_count": 18,
      "outputs": []
    },
    {
      "cell_type": "code",
      "source": [
        "# Set the growth percentage to 0 if NaN and round to one decimal place\n",
        "yearly_cves['Growth Percentage'] = yearly_cves['Growth Percentage'].fillna(0)"
      ],
      "metadata": {
        "id": "eNi_ZnITNTwM"
      },
      "execution_count": 19,
      "outputs": []
    },
    {
      "cell_type": "code",
      "source": [
        "# Use dark background style\n",
        "plt.style.use('dark_background')\n",
        "\n",
        "# Create a figure and axis\n",
        "fig, ax = plt.subplots(figsize=(12, 6))\n",
        "\n",
        "# Plotting the yearly count as a background\n",
        "bar_color = 'grey'\n",
        "ax.bar(yearly_cves['Year'], yearly_cves['Count'], color=bar_color, label='CVEs Published', alpha=0.35)\n",
        "\n",
        "# Plotting the growth percentage as a line plot on a second y-axis\n",
        "ax2 = ax.twinx()\n",
        "line_color = '#ff7f0e'\n",
        "ax2.plot(yearly_cves['Year'], yearly_cves['Growth Percentage'], color=line_color, marker='o', label='Percentage Change from Previous Year')\n",
        "\n",
        "# Hide the scale of the secondary axis\n",
        "ax2.set_yticks([])  # Remove tick marks\n",
        "ax2.set_ylabel('')   # Remove label\n",
        "\n",
        "# Highlight the points on the line with the growth percentage\n",
        "for i, percentage in enumerate(yearly_cves['Growth Percentage']):\n",
        "    color = 'red' if percentage > 0 else 'green'\n",
        "    ax2.scatter(yearly_cves['Year'][i], percentage, color=color, s=80, zorder=2, label='')\n",
        "\n",
        "# Annotate the points on the line with the growth percentage, with increased vertical offset\n",
        "offset = 15  # Adjust this value as needed\n",
        "for i, percentage in enumerate(yearly_cves['Growth Percentage']):\n",
        "    ax2.text(yearly_cves['Year'][i], percentage + offset, f'{percentage:.1f}%',\n",
        "             ha='center', va='bottom' if percentage >= 0 else 'center', color='white')\n",
        "\n",
        "# Display the highest 'count' at the top of the corresponding bar\n",
        "max_count_index = yearly_cves['Count'].idxmax()\n",
        "ax.text(yearly_cves['Year'][max_count_index], yearly_cves['Count'][max_count_index],\n",
        "        f'{yearly_cves[\"Count\"].max()}', ha='center', va='bottom', color='coral', fontsize=11)\n",
        "\n",
        "# Set labels and title\n",
        "ax.set_xlabel('')\n",
        "# ax.set_ylabel('Yearly Count', color=bar_color)  # Uncomment if you want the primary y-axis label\n",
        "plt.title('CVEs Published by Year')\n",
        "\n",
        "# Adjust y-axis scale for growth percentage\n",
        "ax2.set_ylim(min(yearly_cves['Growth Percentage']) - 100, max(yearly_cves['Growth Percentage']) + 300)\n",
        "\n",
        "# Add legends below each other\n",
        "ax.legend(loc='upper left', fontsize='small', bbox_to_anchor=(0.01, 0.96), frameon=False)\n",
        "ax2.legend(loc='upper left', fontsize='small', bbox_to_anchor=(0.01, 0.90), frameon=False)\n",
        "\n",
        "plt.show()"
      ],
      "metadata": {
        "colab": {
          "base_uri": "https://localhost:8080/",
          "height": 545
        },
        "id": "EWkKTTEpI21K",
        "outputId": "1ead2e08-d1a8-4a79-bea3-cd52952a7dc0"
      },
      "execution_count": 20,
      "outputs": [
        {
          "output_type": "display_data",
          "data": {
            "text/plain": [
              "<Figure size 1200x600 with 2 Axes>"
            ],
            "image/png": "[encoded data removed]"
          },
          "metadata": {}
        }
      ]
    }
  ]
}